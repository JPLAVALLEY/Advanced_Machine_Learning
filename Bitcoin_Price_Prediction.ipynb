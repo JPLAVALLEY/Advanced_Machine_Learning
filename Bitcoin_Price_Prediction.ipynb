{
  "nbformat": 4,
  "nbformat_minor": 0,
  "metadata": {
    "colab": {
      "name": "Bitcoin_Price_Prediction.ipynb",
      "provenance": [],
      "collapsed_sections": [],
      "include_colab_link": true
    },
    "kernelspec": {
      "name": "python3",
      "display_name": "Python 3"
    }
  },
  "cells": [
    {
      "cell_type": "markdown",
      "metadata": {
        "id": "view-in-github",
        "colab_type": "text"
      },
      "source": [
        "<a href=\"https://colab.research.google.com/github/JPLAVALLEY/Advanced_Machine_Learning/blob/master/Bitcoin_Price_Prediction.ipynb\" target=\"_parent\"><img src=\"https://colab.research.google.com/assets/colab-badge.svg\" alt=\"Open In Colab\"/></a>"
      ]
    },
    {
      "cell_type": "code",
      "metadata": {
        "id": "kDfYDUhbpLCW",
        "colab_type": "code",
        "colab": {
          "base_uri": "https://localhost:8080/",
          "height": 374
        },
        "outputId": "34de1430-a211-42d5-e834-d4ed04de9c94"
      },
      "source": [
        "pip install git+git://github.com/danpaquin/coinbasepro-python.git"
      ],
      "execution_count": 1,
      "outputs": [
        {
          "output_type": "stream",
          "text": [
            "Collecting git+git://github.com/danpaquin/coinbasepro-python.git\n",
            "  Cloning git://github.com/danpaquin/coinbasepro-python.git to /tmp/pip-req-build-esc_w6s2\n",
            "  Running command git clone -q git://github.com/danpaquin/coinbasepro-python.git /tmp/pip-req-build-esc_w6s2\n",
            "Requirement already satisfied: sortedcontainers>=1.5.9 in /usr/local/lib/python3.6/dist-packages (from cbpro==1.1.4) (2.1.0)\n",
            "Requirement already satisfied: requests>=2.13.0 in /usr/local/lib/python3.6/dist-packages (from cbpro==1.1.4) (2.21.0)\n",
            "Requirement already satisfied: six>=1.10.0 in /usr/local/lib/python3.6/dist-packages (from cbpro==1.1.4) (1.12.0)\n",
            "Collecting websocket-client>=0.40.0\n",
            "\u001b[?25l  Downloading https://files.pythonhosted.org/packages/29/19/44753eab1fdb50770ac69605527e8859468f3c0fd7dc5a76dd9c4dbd7906/websocket_client-0.56.0-py2.py3-none-any.whl (200kB)\n",
            "\u001b[K     |████████████████████████████████| 204kB 3.4MB/s \n",
            "\u001b[?25hRequirement already satisfied: pymongo>=3.5.1 in /usr/local/lib/python3.6/dist-packages (from cbpro==1.1.4) (3.9.0)\n",
            "Requirement already satisfied: chardet<3.1.0,>=3.0.2 in /usr/local/lib/python3.6/dist-packages (from requests>=2.13.0->cbpro==1.1.4) (3.0.4)\n",
            "Requirement already satisfied: urllib3<1.25,>=1.21.1 in /usr/local/lib/python3.6/dist-packages (from requests>=2.13.0->cbpro==1.1.4) (1.24.3)\n",
            "Requirement already satisfied: certifi>=2017.4.17 in /usr/local/lib/python3.6/dist-packages (from requests>=2.13.0->cbpro==1.1.4) (2019.9.11)\n",
            "Requirement already satisfied: idna<2.9,>=2.5 in /usr/local/lib/python3.6/dist-packages (from requests>=2.13.0->cbpro==1.1.4) (2.8)\n",
            "Building wheels for collected packages: cbpro\n",
            "  Building wheel for cbpro (setup.py) ... \u001b[?25l\u001b[?25hdone\n",
            "  Created wheel for cbpro: filename=cbpro-1.1.4-py2.py3-none-any.whl size=24178 sha256=3a4fd16ba4a11d13ca91502edac792604ee457281e5979d5d0df3f096ed43d36\n",
            "  Stored in directory: /tmp/pip-ephem-wheel-cache-6kgv5vdg/wheels/7e/71/30/ec427fa2d6a27e4a439c42021dca574874a69b0d186a1080da\n",
            "Successfully built cbpro\n",
            "Installing collected packages: websocket-client, cbpro\n",
            "Successfully installed cbpro-1.1.4 websocket-client-0.56.0\n"
          ],
          "name": "stdout"
        }
      ]
    },
    {
      "cell_type": "code",
      "metadata": {
        "id": "8xFhqyjUpNmu",
        "colab_type": "code",
        "colab": {}
      },
      "source": [
        ""
      ],
      "execution_count": 0,
      "outputs": []
    }
  ]
}